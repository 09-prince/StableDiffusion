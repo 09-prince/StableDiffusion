{
 "cells": [
  {
   "cell_type": "markdown",
   "metadata": {},
   "source": [
    "## Image to Image"
   ]
  },
  {
   "cell_type": "code",
   "execution_count": 3,
   "metadata": {},
   "outputs": [
    {
     "name": "stderr",
     "output_type": "stream",
     "text": [
      "C:\\Users\\gourp\\AppData\\Local\\Temp\\ipykernel_16808\\2618140715.py:14: UserWarning: 'has_mps' is deprecated, please use 'torch.backends.mps.is_built()'\n",
      "  elif (torch.has_mps or torch.backends.mps.is_available()) and ALLOW_MPS:\n"
     ]
    },
    {
     "name": "stdout",
     "output_type": "stream",
     "text": [
      "Using device: cpu\n"
     ]
    },
    {
     "name": "stderr",
     "output_type": "stream",
     "text": [
      "100%|██████████| 37/37 [07:00<00:00, 11.37s/it]\n"
     ]
    }
   ],
   "source": [
    "import model_loader\n",
    "import pipeline\n",
    "from PIL import Image\n",
    "from pathlib import Path\n",
    "from transformers import CLIPTokenizer\n",
    "import torch\n",
    "\n",
    "# Enable CUDA if available\n",
    "ALLOW_CUDA = True\n",
    "ALLOW_MPS = False  # macOS only\n",
    "\n",
    "if torch.cuda.is_available() and ALLOW_CUDA:\n",
    "    DEVICE = \"cuda\"\n",
    "elif (torch.has_mps or torch.backends.mps.is_available()) and ALLOW_MPS:\n",
    "    DEVICE = \"mps\"\n",
    "else:\n",
    "    DEVICE = \"cpu\"\n",
    "\n",
    "print(f\"Using device: {DEVICE}\")\n",
    "\n",
    "# Load tokenizer\n",
    "tokenizer = CLIPTokenizer(\n",
    "    \"../Data/vocab.json\",\n",
    "    merges_file=\"../Data/merges.txt\"\n",
    ")\n",
    "\n",
    "# Load model checkpoint\n",
    "model_file = \"../Data/v1-5-pruned-emaonly.ckpt\"\n",
    "models = model_loader.preload_models_from_standard_weights(model_file, DEVICE)\n",
    "\n",
    "# ===== IMAGE TO IMAGE =====\n",
    "image_path = \"../cat.jpg\"  # Set the path to your input image\n",
    "input_image = Image.open(image_path)\n",
    "\n",
    "# Text-based prompt and unconditioned prompt (for guidance)\n",
    "prompt = \"Cat wearing batman mask which is white in color\"\n",
    "uncond_prompt = \"\"\n",
    "strength = 0.75  # Adjust strength to control the mix of input image and generation\n",
    "\n",
    "# ===== SAMPLING CONFIG =====\n",
    "sampler = \"ddpm\"\n",
    "num_inference_steps = 50\n",
    "seed = 42\n",
    "\n",
    "# ===== GENERATE IMAGE =====\n",
    "output_image = pipeline.generate(\n",
    "    prompt=prompt,\n",
    "    uncond_prompt=uncond_prompt,\n",
    "    input_image=input_image,\n",
    "    strength=strength,\n",
    "    do_cfg=True,  # Conditional generation\n",
    "    cfg_scale=8,  # Influence of the text prompt\n",
    "    sampler_name=sampler,\n",
    "    n_inference_steps=num_inference_steps,\n",
    "    seed=seed,\n",
    "    models=models,\n",
    "    device=DEVICE,\n",
    "    idle_device=\"cpu\",  # Offload to CPU if needed\n",
    "    tokenizer=tokenizer,\n",
    ")\n",
    "\n",
    "# Save or display output\n",
    "Image.fromarray(output_image).save(\"output_image_to_image.png\")\n"
   ]
  },
  {
   "cell_type": "markdown",
   "metadata": {},
   "source": [
    "## Text to Image"
   ]
  },
  {
   "cell_type": "code",
   "execution_count": 2,
   "metadata": {},
   "outputs": [
    {
     "name": "stderr",
     "output_type": "stream",
     "text": [
      "C:\\Users\\gourp\\AppData\\Local\\Temp\\ipykernel_16808\\2057695166.py:14: UserWarning: 'has_mps' is deprecated, please use 'torch.backends.mps.is_built()'\n",
      "  elif (torch.has_mps or torch.backends.mps.is_available()) and ALLOW_MPS:\n"
     ]
    },
    {
     "name": "stdout",
     "output_type": "stream",
     "text": [
      "Using device: cpu\n"
     ]
    },
    {
     "name": "stderr",
     "output_type": "stream",
     "text": [
      "100%|██████████| 50/50 [07:36<00:00,  9.12s/it]\n"
     ]
    }
   ],
   "source": [
    "import model_loader\n",
    "import pipeline\n",
    "from PIL import Image\n",
    "from pathlib import Path\n",
    "from transformers import CLIPTokenizer\n",
    "import torch\n",
    "\n",
    "# Enable CUDA if available\n",
    "ALLOW_CUDA = True\n",
    "ALLOW_MPS = False  # macOS only\n",
    "\n",
    "if torch.cuda.is_available() and ALLOW_CUDA:\n",
    "    DEVICE = \"cuda\"\n",
    "elif (torch.has_mps or torch.backends.mps.is_available()) and ALLOW_MPS:\n",
    "    DEVICE = \"mps\"\n",
    "else:\n",
    "    DEVICE = \"cpu\"\n",
    "print(f\"Using device: {DEVICE}\")\n",
    "\n",
    "# Load tokenizer\n",
    "tokenizer = CLIPTokenizer(\n",
    "    \"A:/GAN/SGXL/Datasets/vocab.json\",\n",
    "    merges_file=\"A:/GAN/SGXL/Datasets/merges.txt\"\n",
    ")\n",
    "\n",
    "# Load model checkpoint\n",
    "model_file = \"A:/GAN/SGXL/Datasets/v1-5-pruned-emaonly.ckpt\"\n",
    "models = model_loader.preload_models_from_standard_weights(model_file, DEVICE)\n",
    "\n",
    "# ===== TEXT TO IMAGE =====\n",
    "prompt = \"abandoned city overgrow with vegetation, It also include the buldings\"\n",
    "uncond_prompt = \"\"\n",
    "do_cfg = True\n",
    "cfg_scale = 8\n",
    "\n",
    "# ===== IMAGE TO IMAGE (optional) =====\n",
    "input_image = None  # Comment/Uncomment below to enable\n",
    "strength = 0.9\n",
    "\n",
    "# ===== SAMPLING CONFIG =====\n",
    "sampler = \"ddpm\"\n",
    "num_inference_steps = 50\n",
    "seed = 42\n",
    "\n",
    "# ===== GENERATE IMAGE =====\n",
    "output_image = pipeline.generate(\n",
    "    prompt=prompt,\n",
    "    uncond_prompt=uncond_prompt,\n",
    "    input_image=input_image,\n",
    "    strength=strength,\n",
    "    do_cfg=do_cfg,\n",
    "    cfg_scale=cfg_scale,\n",
    "    sampler_name=sampler,\n",
    "    n_inference_steps=num_inference_steps,\n",
    "    seed=seed,\n",
    "    models=models,\n",
    "    device=DEVICE,\n",
    "    idle_device=\"cpu\",  # Offload to CPU if needed\n",
    "    tokenizer=tokenizer,\n",
    ")\n",
    "\n",
    "# Save or display output\n",
    "Image.fromarray(output_image).save(\"output.png\")\n"
   ]
  },
  {
   "cell_type": "code",
   "execution_count": null,
   "metadata": {},
   "outputs": [],
   "source": []
  }
 ],
 "metadata": {
  "kernelspec": {
   "display_name": ".venv",
   "language": "python",
   "name": "python3"
  },
  "language_info": {
   "codemirror_mode": {
    "name": "ipython",
    "version": 3
   },
   "file_extension": ".py",
   "mimetype": "text/x-python",
   "name": "python",
   "nbconvert_exporter": "python",
   "pygments_lexer": "ipython3",
   "version": "3.12.3"
  }
 },
 "nbformat": 4,
 "nbformat_minor": 2
}
